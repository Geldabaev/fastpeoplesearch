{
 "cells": [
  {
   "cell_type": "code",
   "execution_count": 1,
   "metadata": {},
   "outputs": [],
   "source": [
    "import pandas as pd"
   ]
  },
  {
   "cell_type": "code",
   "execution_count": 2,
   "metadata": {},
   "outputs": [
    {
     "name": "stderr",
     "output_type": "stream",
     "text": [
      "/tmp/ipykernel_17942/1314511030.py:1: DtypeWarning: Columns (0,1) have mixed types. Specify dtype option on import or set low_memory=False.\n",
      "  df = pd.read_csv(\"db_files/data_pasport.csv\")\n"
     ]
    }
   ],
   "source": [
    "df = pd.read_csv(\"db_files/data_pasport.csv\")"
   ]
  },
  {
   "cell_type": "code",
   "execution_count": 3,
   "metadata": {},
   "outputs": [],
   "source": [
    "df['PASSP_SERIES'] = pd.to_numeric(df['PASSP_SERIES'], errors=\"coerce\")"
   ]
  },
  {
   "cell_type": "code",
   "execution_count": 4,
   "metadata": {},
   "outputs": [],
   "source": [
    "df['PASSP_NUMBER'] = pd.to_numeric(df['PASSP_NUMBER'], errors=\"coerce\")"
   ]
  },
  {
   "cell_type": "code",
   "execution_count": 5,
   "metadata": {},
   "outputs": [
    {
     "data": {
      "text/plain": "           PASSP_SERIES  PASSP_NUMBER\n0                4621.0      501925.0\n1                4621.0      492766.0\n2                4621.0      491058.0\n3                4621.0      492756.0\n4                4621.0      440269.0\n...                 ...           ...\n149773443        4022.0      387987.0\n149773444        4022.0      350652.0\n149773445        7022.0      147487.0\n149773446        6023.0      216384.0\n149773447        6023.0      156516.0\n\n[149763473 rows x 2 columns]",
      "text/html": "<div>\n<style scoped>\n    .dataframe tbody tr th:only-of-type {\n        vertical-align: middle;\n    }\n\n    .dataframe tbody tr th {\n        vertical-align: top;\n    }\n\n    .dataframe thead th {\n        text-align: right;\n    }\n</style>\n<table border=\"1\" class=\"dataframe\">\n  <thead>\n    <tr style=\"text-align: right;\">\n      <th></th>\n      <th>PASSP_SERIES</th>\n      <th>PASSP_NUMBER</th>\n    </tr>\n  </thead>\n  <tbody>\n    <tr>\n      <th>0</th>\n      <td>4621.0</td>\n      <td>501925.0</td>\n    </tr>\n    <tr>\n      <th>1</th>\n      <td>4621.0</td>\n      <td>492766.0</td>\n    </tr>\n    <tr>\n      <th>2</th>\n      <td>4621.0</td>\n      <td>491058.0</td>\n    </tr>\n    <tr>\n      <th>3</th>\n      <td>4621.0</td>\n      <td>492756.0</td>\n    </tr>\n    <tr>\n      <th>4</th>\n      <td>4621.0</td>\n      <td>440269.0</td>\n    </tr>\n    <tr>\n      <th>...</th>\n      <td>...</td>\n      <td>...</td>\n    </tr>\n    <tr>\n      <th>149773443</th>\n      <td>4022.0</td>\n      <td>387987.0</td>\n    </tr>\n    <tr>\n      <th>149773444</th>\n      <td>4022.0</td>\n      <td>350652.0</td>\n    </tr>\n    <tr>\n      <th>149773445</th>\n      <td>7022.0</td>\n      <td>147487.0</td>\n    </tr>\n    <tr>\n      <th>149773446</th>\n      <td>6023.0</td>\n      <td>216384.0</td>\n    </tr>\n    <tr>\n      <th>149773447</th>\n      <td>6023.0</td>\n      <td>156516.0</td>\n    </tr>\n  </tbody>\n</table>\n<p>149763473 rows × 2 columns</p>\n</div>"
     },
     "execution_count": 5,
     "metadata": {},
     "output_type": "execute_result"
    }
   ],
   "source": [
    "df.dropna()"
   ]
  },
  {
   "cell_type": "code",
   "execution_count": 21,
   "metadata": {},
   "outputs": [],
   "source": [
    "res_filter = df[\n",
    "            (df['PASSP_SERIES'] == 1) &\n",
    "            (df['PASSP_NUMBER'] == 239433)\n",
    "            ]"
   ]
  },
  {
   "cell_type": "code",
   "execution_count": 22,
   "metadata": {},
   "outputs": [
    {
     "data": {
      "text/plain": "0"
     },
     "execution_count": 22,
     "metadata": {},
     "output_type": "execute_result"
    }
   ],
   "source": [
    "len(res_filter['PASSP_NUMBER'])"
   ]
  },
  {
   "cell_type": "code",
   "execution_count": 25,
   "metadata": {},
   "outputs": [
    {
     "ename": "AttributeError",
     "evalue": "'str' object has no attribute 'decode'",
     "output_type": "error",
     "traceback": [
      "\u001B[0;31m---------------------------------------------------------------------------\u001B[0m",
      "\u001B[0;31mAttributeError\u001B[0m                            Traceback (most recent call last)",
      "Cell \u001B[0;32mIn[25], line 1\u001B[0m\n\u001B[0;32m----> 1\u001B[0m n \u001B[38;5;241m=\u001B[39m \u001B[38;5;124;43m\"\u001B[39;49m\u001B[38;5;124;43mЈРґР°СЂС†РµРІ РЎС‚Р°РЅРёСЃР»Р°РІ Р®СЂСЊРµРІРёС‡\u001B[39;49m\u001B[38;5;124;43m\"\u001B[39;49m\u001B[38;5;241;43m.\u001B[39;49m\u001B[43mdecode\u001B[49m()\n",
      "\u001B[0;31mAttributeError\u001B[0m: 'str' object has no attribute 'decode'"
     ]
    }
   ],
   "source": [
    "n = \"ЈРґР°СЂС†РµРІ РЎС‚Р°РЅРёСЃР»Р°РІ Р®СЂСЊРµРІРёС‡\""
   ]
  },
  {
   "cell_type": "code",
   "execution_count": 24,
   "outputs": [
    {
     "data": {
      "text/plain": "b'\\xd0\\x88\\xd0\\xa0\\xd2\\x91\\xd0\\xa0\\xc2\\xb0\\xd0\\xa1\\xd0\\x82\\xd0\\xa1\\xe2\\x80\\xa0\\xd0\\xa0\\xc2\\xb5\\xd0\\xa0\\xd0\\x86 \\xd0\\xa0\\xd0\\x8e\\xd0\\xa1\\xe2\\x80\\x9a\\xd0\\xa0\\xc2\\xb0\\xd0\\xa0\\xd0\\x85\\xd0\\xa0\\xd1\\x91\\xd0\\xa1\\xd0\\x83\\xd0\\xa0\\xc2\\xbb\\xd0\\xa0\\xc2\\xb0\\xd0\\xa0\\xd0\\x86 \\xd0\\xa0\\xc2\\xae\\xd0\\xa1\\xd0\\x82\\xd0\\xa1\\xd0\\x8a\\xd0\\xa0\\xc2\\xb5\\xd0\\xa0\\xd0\\x86\\xd0\\xa0\\xd1\\x91\\xd0\\xa1\\xe2\\x80\\xa1'"
     },
     "execution_count": 24,
     "metadata": {},
     "output_type": "execute_result"
    }
   ],
   "source": [
    "n"
   ],
   "metadata": {
    "collapsed": false
   }
  },
  {
   "cell_type": "code",
   "execution_count": null,
   "outputs": [],
   "source": [],
   "metadata": {
    "collapsed": false
   }
  }
 ],
 "metadata": {
  "kernelspec": {
   "display_name": "Python 3 (ipykernel)",
   "language": "python",
   "name": "python3"
  },
  "language_info": {
   "codemirror_mode": {
    "name": "ipython",
    "version": 3
   },
   "file_extension": ".py",
   "mimetype": "text/x-python",
   "name": "python",
   "nbconvert_exporter": "python",
   "pygments_lexer": "ipython3",
   "version": "3.9.13"
  }
 },
 "nbformat": 4,
 "nbformat_minor": 1
}
