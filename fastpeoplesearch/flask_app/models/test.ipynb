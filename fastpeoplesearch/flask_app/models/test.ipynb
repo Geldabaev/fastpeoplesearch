{
 "cells": [
  {
   "cell_type": "code",
   "execution_count": null,
   "metadata": {
    "collapsed": true
   },
   "outputs": [],
   "source": [
    "import time\n",
    "from selenium import webdriver\n",
    "from selenium.webdriver.common.keys import Keys\n",
    "from selenium.webdriver.common.by import By\n",
    "from PIL import Image"
   ]
  },
  {
   "cell_type": "code",
   "execution_count": null,
   "outputs": [
    {
     "ename": "WebDriverException",
     "evalue": "Message: disconnected: unable to connect to renderer\n  (failed to check if window was closed: disconnected: unable to connect to renderer)\n  (Session info: chrome=108.0.5359.124)\nStacktrace:\n#0 0x5604e5fc42a3 <unknown>\n#1 0x5604e5d82f77 <unknown>\n#2 0x5604e5d6a29b <unknown>\n#3 0x5604e5d5cadc <unknown>\n#4 0x5604e5d5db10 <unknown>\n#5 0x5604e5dea402 <unknown>\n#6 0x5604e5ddfaf8 <unknown>\n#7 0x5604e5db2ece <unknown>\n#8 0x5604e5db3fde <unknown>\n#9 0x5604e601463e <unknown>\n#10 0x5604e6017b79 <unknown>\n#11 0x5604e5ffa89e <unknown>\n#12 0x5604e6018a83 <unknown>\n#13 0x5604e5fed505 <unknown>\n#14 0x5604e6039ca8 <unknown>\n#15 0x5604e6039e36 <unknown>\n#16 0x5604e6055333 <unknown>\n#17 0x7fc4dd7beb43 <unknown>\n",
     "output_type": "error",
     "traceback": [
      "\u001B[0;31m---------------------------------------------------------------------------\u001B[0m",
      "\u001B[0;31mWebDriverException\u001B[0m                        Traceback (most recent call last)",
      "Cell \u001B[0;32mIn[94], line 15\u001B[0m\n\u001B[1;32m     13\u001B[0m im_crop\u001B[38;5;241m.\u001B[39mshow()\n\u001B[1;32m     14\u001B[0m time\u001B[38;5;241m.\u001B[39msleep(\u001B[38;5;241m10\u001B[39m)\n\u001B[0;32m---> 15\u001B[0m \u001B[43mdriver\u001B[49m\u001B[38;5;241;43m.\u001B[39;49m\u001B[43mclose\u001B[49m\u001B[43m(\u001B[49m\u001B[43m)\u001B[49m\n",
      "File \u001B[0;32m~/RustProjects/alex_pars_tg/venv/lib/python3.9/site-packages/selenium/webdriver/remote/webdriver.py:551\u001B[0m, in \u001B[0;36mWebDriver.close\u001B[0;34m(self)\u001B[0m\n\u001B[1;32m    543\u001B[0m \u001B[38;5;28;01mdef\u001B[39;00m \u001B[38;5;21mclose\u001B[39m(\u001B[38;5;28mself\u001B[39m) \u001B[38;5;241m-\u001B[39m\u001B[38;5;241m>\u001B[39m \u001B[38;5;28;01mNone\u001B[39;00m:\n\u001B[1;32m    544\u001B[0m \u001B[38;5;250m    \u001B[39m\u001B[38;5;124;03m\"\"\"Closes the current window.\u001B[39;00m\n\u001B[1;32m    545\u001B[0m \n\u001B[1;32m    546\u001B[0m \u001B[38;5;124;03m    :Usage:\u001B[39;00m\n\u001B[0;32m   (...)\u001B[0m\n\u001B[1;32m    549\u001B[0m \u001B[38;5;124;03m            driver.close()\u001B[39;00m\n\u001B[1;32m    550\u001B[0m \u001B[38;5;124;03m    \"\"\"\u001B[39;00m\n\u001B[0;32m--> 551\u001B[0m     \u001B[38;5;28;43mself\u001B[39;49m\u001B[38;5;241;43m.\u001B[39;49m\u001B[43mexecute\u001B[49m\u001B[43m(\u001B[49m\u001B[43mCommand\u001B[49m\u001B[38;5;241;43m.\u001B[39;49m\u001B[43mCLOSE\u001B[49m\u001B[43m)\u001B[49m\n",
      "File \u001B[0;32m~/RustProjects/alex_pars_tg/venv/lib/python3.9/site-packages/selenium/webdriver/remote/webdriver.py:440\u001B[0m, in \u001B[0;36mWebDriver.execute\u001B[0;34m(self, driver_command, params)\u001B[0m\n\u001B[1;32m    438\u001B[0m response \u001B[38;5;241m=\u001B[39m \u001B[38;5;28mself\u001B[39m\u001B[38;5;241m.\u001B[39mcommand_executor\u001B[38;5;241m.\u001B[39mexecute(driver_command, params)\n\u001B[1;32m    439\u001B[0m \u001B[38;5;28;01mif\u001B[39;00m response:\n\u001B[0;32m--> 440\u001B[0m     \u001B[38;5;28;43mself\u001B[39;49m\u001B[38;5;241;43m.\u001B[39;49m\u001B[43merror_handler\u001B[49m\u001B[38;5;241;43m.\u001B[39;49m\u001B[43mcheck_response\u001B[49m\u001B[43m(\u001B[49m\u001B[43mresponse\u001B[49m\u001B[43m)\u001B[49m\n\u001B[1;32m    441\u001B[0m     response[\u001B[38;5;124m\"\u001B[39m\u001B[38;5;124mvalue\u001B[39m\u001B[38;5;124m\"\u001B[39m] \u001B[38;5;241m=\u001B[39m \u001B[38;5;28mself\u001B[39m\u001B[38;5;241m.\u001B[39m_unwrap_value(response\u001B[38;5;241m.\u001B[39mget(\u001B[38;5;124m\"\u001B[39m\u001B[38;5;124mvalue\u001B[39m\u001B[38;5;124m\"\u001B[39m, \u001B[38;5;28;01mNone\u001B[39;00m))\n\u001B[1;32m    442\u001B[0m     \u001B[38;5;28;01mreturn\u001B[39;00m response\n",
      "File \u001B[0;32m~/RustProjects/alex_pars_tg/venv/lib/python3.9/site-packages/selenium/webdriver/remote/errorhandler.py:245\u001B[0m, in \u001B[0;36mErrorHandler.check_response\u001B[0;34m(self, response)\u001B[0m\n\u001B[1;32m    243\u001B[0m         alert_text \u001B[38;5;241m=\u001B[39m value[\u001B[38;5;124m\"\u001B[39m\u001B[38;5;124malert\u001B[39m\u001B[38;5;124m\"\u001B[39m]\u001B[38;5;241m.\u001B[39mget(\u001B[38;5;124m\"\u001B[39m\u001B[38;5;124mtext\u001B[39m\u001B[38;5;124m\"\u001B[39m)\n\u001B[1;32m    244\u001B[0m     \u001B[38;5;28;01mraise\u001B[39;00m exception_class(message, screen, stacktrace, alert_text)  \u001B[38;5;66;03m# type: ignore[call-arg]  # mypy is not smart enough here\u001B[39;00m\n\u001B[0;32m--> 245\u001B[0m \u001B[38;5;28;01mraise\u001B[39;00m exception_class(message, screen, stacktrace)\n",
      "\u001B[0;31mWebDriverException\u001B[0m: Message: disconnected: unable to connect to renderer\n  (failed to check if window was closed: disconnected: unable to connect to renderer)\n  (Session info: chrome=108.0.5359.124)\nStacktrace:\n#0 0x5604e5fc42a3 <unknown>\n#1 0x5604e5d82f77 <unknown>\n#2 0x5604e5d6a29b <unknown>\n#3 0x5604e5d5cadc <unknown>\n#4 0x5604e5d5db10 <unknown>\n#5 0x5604e5dea402 <unknown>\n#6 0x5604e5ddfaf8 <unknown>\n#7 0x5604e5db2ece <unknown>\n#8 0x5604e5db3fde <unknown>\n#9 0x5604e601463e <unknown>\n#10 0x5604e6017b79 <unknown>\n#11 0x5604e5ffa89e <unknown>\n#12 0x5604e6018a83 <unknown>\n#13 0x5604e5fed505 <unknown>\n#14 0x5604e6039ca8 <unknown>\n#15 0x5604e6039e36 <unknown>\n#16 0x5604e6055333 <unknown>\n#17 0x7fc4dd7beb43 <unknown>\n"
     ]
    }
   ],
   "source": [
    "options = webdriver.ChromeOptions()\n",
    "# options.add_argument('headless')\n",
    "# driver = webdriver.Chrome(chrome_options=options)\n",
    "driver = webdriver.Chrome()\n",
    "driver.set_window_size(500, 800)\n",
    "url = \"https://xn--b1aew.xn--p1ai/wanted\"\n",
    "driver.get(url)\n",
    "driver.find_element(By.TAG_NAME, 'body').send_keys(Keys.END)\n",
    "time.sleep(3)\n",
    "driver.save_screenshot('sss.png')\n",
    "screenshot = Image.open('sss.png')\n",
    "im_crop = screenshot.crop((50, 0, 300, 100))\n",
    "im_crop.save('captcha.png', quality=95)\n",
    "im_crop.show()\n",
    "time.sleep(10)\n",
    "driver.close()"
   ],
   "metadata": {
    "collapsed": false
   }
  },
  {
   "cell_type": "code",
   "execution_count": 82,
   "outputs": [],
   "source": [
    "\n"
   ],
   "metadata": {
    "collapsed": false
   }
  },
  {
   "cell_type": "code",
   "execution_count": null,
   "outputs": [],
   "source": [],
   "metadata": {
    "collapsed": false
   }
  }
 ],
 "metadata": {
  "kernelspec": {
   "display_name": "Python 3",
   "language": "python",
   "name": "python3"
  },
  "language_info": {
   "codemirror_mode": {
    "name": "ipython",
    "version": 2
   },
   "file_extension": ".py",
   "mimetype": "text/x-python",
   "name": "python",
   "nbconvert_exporter": "python",
   "pygments_lexer": "ipython2",
   "version": "2.7.6"
  }
 },
 "nbformat": 4,
 "nbformat_minor": 0
}
